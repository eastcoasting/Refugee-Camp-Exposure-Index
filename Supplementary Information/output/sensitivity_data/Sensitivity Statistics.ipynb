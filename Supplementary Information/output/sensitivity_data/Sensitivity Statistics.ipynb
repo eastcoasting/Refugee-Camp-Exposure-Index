{
 "cells": [
  {
   "cell_type": "code",
   "execution_count": 5,
   "metadata": {},
   "outputs": [],
   "source": [
    "import pandas as pd\n",
    "from pathlib import Path\n",
    "import os\n",
    "import glob"
   ]
  },
  {
   "cell_type": "code",
   "execution_count": 9,
   "metadata": {},
   "outputs": [],
   "source": [
    "path = r''\n",
    "files = Path(path).glob('*.csv')  # .rglob to get subdirectories\n",
    "all_files = glob.glob(os.path.join(path, \"*.csv\"))\n",
    "\n",
    "all_df = pd.concat((pd.read_csv(f) for f in all_files), ignore_index=True)"
   ]
  },
  {
   "cell_type": "code",
   "execution_count": 32,
   "metadata": {},
   "outputs": [
    {
     "name": "stdout",
     "output_type": "stream",
     "text": [
      "Bidi_Bidi_Palorinya_Nyumanzi\n",
      "upper bound 0.037\n",
      "lower bound 0.052\n",
      "Hagadera_Dagahaley_Ifo\n",
      "upper bound 0.04\n",
      "lower bound 0.05\n",
      "Kakuma\n",
      "upper bound 0.042\n",
      "lower bound 0.047\n",
      "Kule_Pugnido_Nguenyyiel\n",
      "upper bound 0.037\n",
      "lower bound 0.043\n",
      "Melkadida\n",
      "upper bound 0.048\n",
      "lower bound 0.042\n",
      "Nduta_Mtendeli\n",
      "upper bound 0.043\n",
      "lower bound 0.053\n",
      "Nyarugusu\n",
      "upper bound 0.039\n",
      "lower bound 0.047\n",
      "Yida_Pamir_Ajuong_Thok\n",
      "upper bound 0.039\n",
      "lower bound 0.045\n"
     ]
    }
   ],
   "source": [
    "for f in all_files:\n",
    "    print(f.split(\".csv\")[0])\n",
    "    \n",
    "    tmp_df = pd.read_csv(f)\n",
    "    tmp_df[\"max_diff\"] = tmp_df[\"max_exposure\"] - tmp_df[\"exposure\"]    \n",
    "    tmp_df[\"min_diff\"] = tmp_df[\"exposure\"] - tmp_df[\"min_exposure\"]    \n",
    "    print(\"upper bound\", round(tmp_df[\"max_diff\"].mean(), 3))\n",
    "    print(\"lower bound\", round(tmp_df[\"min_diff\"].mean(), 3))"
   ]
  },
  {
   "cell_type": "code",
   "execution_count": null,
   "metadata": {},
   "outputs": [],
   "source": []
  }
 ],
 "metadata": {
  "kernelspec": {
   "display_name": "Python 3",
   "language": "python",
   "name": "python3"
  },
  "language_info": {
   "codemirror_mode": {
    "name": "ipython",
    "version": 3
   },
   "file_extension": ".py",
   "mimetype": "text/x-python",
   "name": "python",
   "nbconvert_exporter": "python",
   "pygments_lexer": "ipython3",
   "version": "3.9.1"
  }
 },
 "nbformat": 4,
 "nbformat_minor": 4
}
