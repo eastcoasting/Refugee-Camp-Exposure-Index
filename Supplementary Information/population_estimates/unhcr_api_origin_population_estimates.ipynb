{
 "cells": [
  {
   "cell_type": "code",
   "execution_count": 4,
   "metadata": {
    "collapsed": true
   },
   "outputs": [],
   "source": [
    "from urllib.request import urlopen\n",
    "import json\n",
    "import ast\n",
    "import pandas as pd\n"
   ]
  },
  {
   "cell_type": "markdown",
   "source": [
    "## Revision Process\n",
    "\n",
    "- [x] Build list of UNHCR IDs for each refugee camp in our sample\n",
    "- [x] Generate list of queries using camps\n",
    "- [x] Export database that is a matrix of camp level relevant countries\n",
    "- [x] Check to make sure data is relevant to at least 2020\n",
    "- [ ] Use csv of adjacent countries to remove population origin countries that are not relevant\n",
    "\n",
    "Final output will be a database of camps, with the relevant countries for each camp"
   ],
   "metadata": {
    "collapsed": false,
    "pycharm": {
     "name": "#%% md\n"
    }
   }
  },
  {
   "cell_type": "markdown",
   "source": [
    "#### Example query for Kakuma\n",
    "\n",
    "kakuma_id = 191\n",
    "\n",
    "relevant populations to consider: \"Registered asylum-seekers from __, Registered refugees from __ (refugee camps/centers)\"\n",
    "\n",
    "https://data.unhcr.org/population/get/origin?geo_id={kakuma_id}&population_collection=4,29"
   ],
   "metadata": {
    "collapsed": false,
    "pycharm": {
     "name": "#%% md\n"
    }
   }
  },
  {
   "cell_type": "code",
   "execution_count": 5,
   "outputs": [
    {
     "data": {
      "text/plain": "    index      country    camp_name  longitude   latitude  unhcr_id  \\\n0       5     Ethiopia         Kule  34.291530   8.275403       235   \n1      10     Ethiopia      Pugnido  34.259100   7.645984       235   \n2      11     Ethiopia    Melkadida  41.720828   4.519206       800   \n3      17     Ethiopia   Nguenyyiel  34.240537   8.295809       235   \n4       1        Kenya       Kakuma  34.831663   3.744967       191   \n5       2        Kenya     Hagadera  40.371067   0.001314       181   \n6       3        Kenya    Dagahaley  40.290157   0.186054       180   \n7       4        Kenya          Ifo  40.315197   0.116040       182   \n8       7  South Sudan         Yida  30.086080  10.113055       817   \n9      12  South Sudan        Pamir  30.355904   9.909969       817   \n10     13  South Sudan  Ajuong Thok  30.279763   9.965490       817   \n11      8     Tanzania        Nduta  30.841255  -3.656156       863   \n12      9     Tanzania     Mtendeli  30.888483  -3.427342       863   \n13     14     Tanzania    Nyarugusu  30.389450  -4.230329       856   \n14      6       Uganda    Bidi Bidi  31.382998   3.468533     11097   \n15     15       Uganda    Palorinya  31.627836   3.486111     11098   \n16     16       Uganda     Nyumanzi  31.945198   3.467144       319   \n\n                                note  \n0                     Gambela region  \n1                     Gambela region  \n2                      Somali region  \n3                     Gambela region  \n4                                NaN  \n5                                NaN  \n6                                NaN  \n7                                NaN  \n8                        Unity state  \n9                        Unity state  \n10                       Unity state  \n11                               NaN  \n12  Using Nduta camp given proximity  \n13                               NaN  \n14                    Yumbe district  \n15                   Obongi district  \n16                 Adjumani district  ",
      "text/html": "<div>\n<style scoped>\n    .dataframe tbody tr th:only-of-type {\n        vertical-align: middle;\n    }\n\n    .dataframe tbody tr th {\n        vertical-align: top;\n    }\n\n    .dataframe thead th {\n        text-align: right;\n    }\n</style>\n<table border=\"1\" class=\"dataframe\">\n  <thead>\n    <tr style=\"text-align: right;\">\n      <th></th>\n      <th>index</th>\n      <th>country</th>\n      <th>camp_name</th>\n      <th>longitude</th>\n      <th>latitude</th>\n      <th>unhcr_id</th>\n      <th>note</th>\n    </tr>\n  </thead>\n  <tbody>\n    <tr>\n      <th>0</th>\n      <td>5</td>\n      <td>Ethiopia</td>\n      <td>Kule</td>\n      <td>34.291530</td>\n      <td>8.275403</td>\n      <td>235</td>\n      <td>Gambela region</td>\n    </tr>\n    <tr>\n      <th>1</th>\n      <td>10</td>\n      <td>Ethiopia</td>\n      <td>Pugnido</td>\n      <td>34.259100</td>\n      <td>7.645984</td>\n      <td>235</td>\n      <td>Gambela region</td>\n    </tr>\n    <tr>\n      <th>2</th>\n      <td>11</td>\n      <td>Ethiopia</td>\n      <td>Melkadida</td>\n      <td>41.720828</td>\n      <td>4.519206</td>\n      <td>800</td>\n      <td>Somali region</td>\n    </tr>\n    <tr>\n      <th>3</th>\n      <td>17</td>\n      <td>Ethiopia</td>\n      <td>Nguenyyiel</td>\n      <td>34.240537</td>\n      <td>8.295809</td>\n      <td>235</td>\n      <td>Gambela region</td>\n    </tr>\n    <tr>\n      <th>4</th>\n      <td>1</td>\n      <td>Kenya</td>\n      <td>Kakuma</td>\n      <td>34.831663</td>\n      <td>3.744967</td>\n      <td>191</td>\n      <td>NaN</td>\n    </tr>\n    <tr>\n      <th>5</th>\n      <td>2</td>\n      <td>Kenya</td>\n      <td>Hagadera</td>\n      <td>40.371067</td>\n      <td>0.001314</td>\n      <td>181</td>\n      <td>NaN</td>\n    </tr>\n    <tr>\n      <th>6</th>\n      <td>3</td>\n      <td>Kenya</td>\n      <td>Dagahaley</td>\n      <td>40.290157</td>\n      <td>0.186054</td>\n      <td>180</td>\n      <td>NaN</td>\n    </tr>\n    <tr>\n      <th>7</th>\n      <td>4</td>\n      <td>Kenya</td>\n      <td>Ifo</td>\n      <td>40.315197</td>\n      <td>0.116040</td>\n      <td>182</td>\n      <td>NaN</td>\n    </tr>\n    <tr>\n      <th>8</th>\n      <td>7</td>\n      <td>South Sudan</td>\n      <td>Yida</td>\n      <td>30.086080</td>\n      <td>10.113055</td>\n      <td>817</td>\n      <td>Unity state</td>\n    </tr>\n    <tr>\n      <th>9</th>\n      <td>12</td>\n      <td>South Sudan</td>\n      <td>Pamir</td>\n      <td>30.355904</td>\n      <td>9.909969</td>\n      <td>817</td>\n      <td>Unity state</td>\n    </tr>\n    <tr>\n      <th>10</th>\n      <td>13</td>\n      <td>South Sudan</td>\n      <td>Ajuong Thok</td>\n      <td>30.279763</td>\n      <td>9.965490</td>\n      <td>817</td>\n      <td>Unity state</td>\n    </tr>\n    <tr>\n      <th>11</th>\n      <td>8</td>\n      <td>Tanzania</td>\n      <td>Nduta</td>\n      <td>30.841255</td>\n      <td>-3.656156</td>\n      <td>863</td>\n      <td>NaN</td>\n    </tr>\n    <tr>\n      <th>12</th>\n      <td>9</td>\n      <td>Tanzania</td>\n      <td>Mtendeli</td>\n      <td>30.888483</td>\n      <td>-3.427342</td>\n      <td>863</td>\n      <td>Using Nduta camp given proximity</td>\n    </tr>\n    <tr>\n      <th>13</th>\n      <td>14</td>\n      <td>Tanzania</td>\n      <td>Nyarugusu</td>\n      <td>30.389450</td>\n      <td>-4.230329</td>\n      <td>856</td>\n      <td>NaN</td>\n    </tr>\n    <tr>\n      <th>14</th>\n      <td>6</td>\n      <td>Uganda</td>\n      <td>Bidi Bidi</td>\n      <td>31.382998</td>\n      <td>3.468533</td>\n      <td>11097</td>\n      <td>Yumbe district</td>\n    </tr>\n    <tr>\n      <th>15</th>\n      <td>15</td>\n      <td>Uganda</td>\n      <td>Palorinya</td>\n      <td>31.627836</td>\n      <td>3.486111</td>\n      <td>11098</td>\n      <td>Obongi district</td>\n    </tr>\n    <tr>\n      <th>16</th>\n      <td>16</td>\n      <td>Uganda</td>\n      <td>Nyumanzi</td>\n      <td>31.945198</td>\n      <td>3.467144</td>\n      <td>319</td>\n      <td>Adjumani district</td>\n    </tr>\n  </tbody>\n</table>\n</div>"
     },
     "execution_count": 5,
     "metadata": {},
     "output_type": "execute_result"
    }
   ],
   "source": [
    "unhcr_id_database = pd.read_csv(\"camp_data_refugee_flows.csv\")\n",
    "unhcr_id_database"
   ],
   "metadata": {
    "collapsed": false,
    "pycharm": {
     "name": "#%%\n"
    }
   }
  },
  {
   "cell_type": "code",
   "execution_count": 6,
   "outputs": [],
   "source": [
    "def extract_origin_populations():\n",
    "    camps = unhcr_id_database[\"camp_name\"].tolist()\n",
    "    unhcr_ids = unhcr_id_database[\"unhcr_id\"].tolist()\n",
    "    countries = unhcr_id_database[\"country\"].tolist()\n",
    "\n",
    "    base_url = \"https://data.unhcr.org/population/get/origin?geo_id={unhcr_geo_id}&population_collection=4,29\"\n",
    "\n",
    "    edge_database = pd.DataFrame(columns=[\"camp_name\", \"unhcr_id\", \"origin_countries\", \"origin_populations\", \"year_of_origin_data\"])\n",
    "\n",
    "    valid_country_edges = pd.read_csv(\"https://raw.githubusercontent.com/geodatasource/country-borders/master/GEODATASOURCE-COUNTRY-BORDERS.CSV\")\n",
    "    valid_country_edges = valid_country_edges.replace(\"Tanzania (the United Republic of)\", \"Tanzania\")\n",
    "    valid_country_edges = valid_country_edges.replace(\"Congo (the Democratic Republic of the)\", \"Dem. Rep. of the Congo\")\n",
    "\n",
    "    for idx, camp in enumerate(camps):\n",
    "        tmp_json = json.load(urlopen(base_url.format(unhcr_geo_id= unhcr_ids[idx])))\n",
    "\n",
    "        country_edges = valid_country_edges[valid_country_edges[\"country_name\"].str.contains(countries[idx])][\"country_border_name\"].tolist()\n",
    "\n",
    "        origin_countries = []\n",
    "        origin_populations = []\n",
    "        year_of_data = []\n",
    "\n",
    "        for origin_unit in tmp_json[\"data\"]:\n",
    "\n",
    "            if origin_unit[\"pop_origin_name\"] in country_edges:\n",
    "                origin_countries.append(origin_unit[\"pop_origin_name\"])\n",
    "                origin_populations.append(origin_unit[\"individuals\"])\n",
    "                year_of_data.append(origin_unit[\"year\"])\n",
    "\n",
    "        ## Because South Sudan does not have disaggregated data in the operations portal, we use this current to 02/2022\n",
    "        ## https://data.unhcr.org/en/documents/details/90875\n",
    "        if camp == \"Ajuong Thok\":\n",
    "            origin_countries = [\"Sudan\"]\n",
    "            origin_populations = [\"46167\"]\n",
    "            year_of_data = [\"2022\"]\n",
    "        if camp == \"Pamir\":\n",
    "            origin_countries = [\"Sudan\"]\n",
    "            origin_populations = [\"45507\"]\n",
    "            year_of_data = [\"2022\"]\n",
    "        if camp == \"Yida\":\n",
    "            origin_countries = [\"Sudan\"]\n",
    "            origin_populations = [\"33847\"]\n",
    "            year_of_data = [\"2022\"]\n",
    "\n",
    "        ## we then check the total for each and if it's less than 1% of the pop we remove the edge\n",
    "        total_camp_population = sum(list(map(int, origin_populations)))\n",
    "        points = [z for z in zip(origin_countries, origin_populations, year_of_data) if int(z[1]) > (total_camp_population * 0.01)]\n",
    "\n",
    "        [origin_countries, origin_populations, year_of_data] = [list(z) for z in zip(*points)]\n",
    "\n",
    "        edge_database = pd.concat([\n",
    "            edge_database,\n",
    "            pd.DataFrame(data=[[camp, unhcr_ids[idx], origin_countries, origin_populations, year_of_data]], columns=[\"camp_name\", \"unhcr_id\", \"origin_countries\", \"origin_populations\", \"year_of_origin_data\"])]\n",
    "        )\n",
    "\n",
    "    return pd.merge(edge_database, unhcr_id_database, on=[\"camp_name\", \"unhcr_id\"]).sort_values(by=\"index\").reset_index(drop=True)\n",
    "\n",
    "\n",
    "origin_camp_database = extract_origin_populations()\n",
    "\n",
    "origin_camp_database['origin_countries'] = origin_camp_database['origin_countries'].astype(str).str.replace('Dem. Rep. of the Congo', 'Dem Rep of the Congo', regex=False).apply(ast.literal_eval)"
   ],
   "metadata": {
    "collapsed": false,
    "pycharm": {
     "name": "#%%\n"
    }
   }
  },
  {
   "cell_type": "code",
   "execution_count": 7,
   "outputs": [
    {
     "data": {
      "text/plain": "      camp_name unhcr_id                          origin_countries  \\\n0        Kakuma      191  [South Sudan, Somalia, Ethiopia, Uganda]   \n1      Hagadera      181                       [Somalia, Ethiopia]   \n2     Dagahaley      180                       [Somalia, Ethiopia]   \n3           Ifo      182                       [Somalia, Ethiopia]   \n4          Kule      235                             [South Sudan]   \n5     Bidi Bidi    11097                             [South Sudan]   \n6          Yida      817                                   [Sudan]   \n7         Nduta      863                                 [Burundi]   \n8      Mtendeli      863                                 [Burundi]   \n9       Pugnido      235                             [South Sudan]   \n10    Melkadida      800                                 [Somalia]   \n11        Pamir      817                                   [Sudan]   \n12  Ajuong Thok      817                                   [Sudan]   \n13    Nyarugusu      856           [Dem Rep of the Congo, Burundi]   \n14    Palorinya    11098                             [South Sudan]   \n15     Nyumanzi      319                             [South Sudan]   \n16   Nguenyyiel      235                             [South Sudan]   \n\n             origin_populations       year_of_origin_data  index      country  \\\n0   [100826, 38270, 6400, 1949]  [2022, 2022, 2022, 2022]      1        Kenya   \n1                 [81293, 1327]              [2022, 2022]      2        Kenya   \n2                 [76282, 2176]              [2022, 2022]      3        Kenya   \n3                 [68456, 3375]              [2022, 2022]      4        Kenya   \n4                      [374806]                    [2022]      5     Ethiopia   \n5                      [209925]                    [2022]      6       Uganda   \n6                       [33847]                    [2022]      7  South Sudan   \n7                       [76671]                    [2022]      8     Tanzania   \n8                       [76671]                    [2022]      9     Tanzania   \n9                      [374806]                    [2022]     10     Ethiopia   \n10                     [250282]                    [2022]     11     Ethiopia   \n11                      [45507]                    [2022]     12  South Sudan   \n12                      [46167]                    [2022]     13  South Sudan   \n13               [80127, 49638]              [2022, 2022]     14     Tanzania   \n14                     [120338]                    [2022]     15       Uganda   \n15                     [220267]                    [2022]     16       Uganda   \n16                     [374806]                    [2022]     17     Ethiopia   \n\n    longitude   latitude                              note  \n0   34.831663   3.744967                               NaN  \n1   40.371067   0.001314                               NaN  \n2   40.290157   0.186054                               NaN  \n3   40.315197   0.116040                               NaN  \n4   34.291530   8.275403                    Gambela region  \n5   31.382998   3.468533                    Yumbe district  \n6   30.086080  10.113055                       Unity state  \n7   30.841255  -3.656156                               NaN  \n8   30.888483  -3.427342  Using Nduta camp given proximity  \n9   34.259100   7.645984                    Gambela region  \n10  41.720828   4.519206                     Somali region  \n11  30.355904   9.909969                       Unity state  \n12  30.279763   9.965490                       Unity state  \n13  30.389450  -4.230329                               NaN  \n14  31.627836   3.486111                   Obongi district  \n15  31.945198   3.467144                 Adjumani district  \n16  34.240537   8.295809                    Gambela region  ",
      "text/html": "<div>\n<style scoped>\n    .dataframe tbody tr th:only-of-type {\n        vertical-align: middle;\n    }\n\n    .dataframe tbody tr th {\n        vertical-align: top;\n    }\n\n    .dataframe thead th {\n        text-align: right;\n    }\n</style>\n<table border=\"1\" class=\"dataframe\">\n  <thead>\n    <tr style=\"text-align: right;\">\n      <th></th>\n      <th>camp_name</th>\n      <th>unhcr_id</th>\n      <th>origin_countries</th>\n      <th>origin_populations</th>\n      <th>year_of_origin_data</th>\n      <th>index</th>\n      <th>country</th>\n      <th>longitude</th>\n      <th>latitude</th>\n      <th>note</th>\n    </tr>\n  </thead>\n  <tbody>\n    <tr>\n      <th>0</th>\n      <td>Kakuma</td>\n      <td>191</td>\n      <td>[South Sudan, Somalia, Ethiopia, Uganda]</td>\n      <td>[100826, 38270, 6400, 1949]</td>\n      <td>[2022, 2022, 2022, 2022]</td>\n      <td>1</td>\n      <td>Kenya</td>\n      <td>34.831663</td>\n      <td>3.744967</td>\n      <td>NaN</td>\n    </tr>\n    <tr>\n      <th>1</th>\n      <td>Hagadera</td>\n      <td>181</td>\n      <td>[Somalia, Ethiopia]</td>\n      <td>[81293, 1327]</td>\n      <td>[2022, 2022]</td>\n      <td>2</td>\n      <td>Kenya</td>\n      <td>40.371067</td>\n      <td>0.001314</td>\n      <td>NaN</td>\n    </tr>\n    <tr>\n      <th>2</th>\n      <td>Dagahaley</td>\n      <td>180</td>\n      <td>[Somalia, Ethiopia]</td>\n      <td>[76282, 2176]</td>\n      <td>[2022, 2022]</td>\n      <td>3</td>\n      <td>Kenya</td>\n      <td>40.290157</td>\n      <td>0.186054</td>\n      <td>NaN</td>\n    </tr>\n    <tr>\n      <th>3</th>\n      <td>Ifo</td>\n      <td>182</td>\n      <td>[Somalia, Ethiopia]</td>\n      <td>[68456, 3375]</td>\n      <td>[2022, 2022]</td>\n      <td>4</td>\n      <td>Kenya</td>\n      <td>40.315197</td>\n      <td>0.116040</td>\n      <td>NaN</td>\n    </tr>\n    <tr>\n      <th>4</th>\n      <td>Kule</td>\n      <td>235</td>\n      <td>[South Sudan]</td>\n      <td>[374806]</td>\n      <td>[2022]</td>\n      <td>5</td>\n      <td>Ethiopia</td>\n      <td>34.291530</td>\n      <td>8.275403</td>\n      <td>Gambela region</td>\n    </tr>\n    <tr>\n      <th>5</th>\n      <td>Bidi Bidi</td>\n      <td>11097</td>\n      <td>[South Sudan]</td>\n      <td>[209925]</td>\n      <td>[2022]</td>\n      <td>6</td>\n      <td>Uganda</td>\n      <td>31.382998</td>\n      <td>3.468533</td>\n      <td>Yumbe district</td>\n    </tr>\n    <tr>\n      <th>6</th>\n      <td>Yida</td>\n      <td>817</td>\n      <td>[Sudan]</td>\n      <td>[33847]</td>\n      <td>[2022]</td>\n      <td>7</td>\n      <td>South Sudan</td>\n      <td>30.086080</td>\n      <td>10.113055</td>\n      <td>Unity state</td>\n    </tr>\n    <tr>\n      <th>7</th>\n      <td>Nduta</td>\n      <td>863</td>\n      <td>[Burundi]</td>\n      <td>[76671]</td>\n      <td>[2022]</td>\n      <td>8</td>\n      <td>Tanzania</td>\n      <td>30.841255</td>\n      <td>-3.656156</td>\n      <td>NaN</td>\n    </tr>\n    <tr>\n      <th>8</th>\n      <td>Mtendeli</td>\n      <td>863</td>\n      <td>[Burundi]</td>\n      <td>[76671]</td>\n      <td>[2022]</td>\n      <td>9</td>\n      <td>Tanzania</td>\n      <td>30.888483</td>\n      <td>-3.427342</td>\n      <td>Using Nduta camp given proximity</td>\n    </tr>\n    <tr>\n      <th>9</th>\n      <td>Pugnido</td>\n      <td>235</td>\n      <td>[South Sudan]</td>\n      <td>[374806]</td>\n      <td>[2022]</td>\n      <td>10</td>\n      <td>Ethiopia</td>\n      <td>34.259100</td>\n      <td>7.645984</td>\n      <td>Gambela region</td>\n    </tr>\n    <tr>\n      <th>10</th>\n      <td>Melkadida</td>\n      <td>800</td>\n      <td>[Somalia]</td>\n      <td>[250282]</td>\n      <td>[2022]</td>\n      <td>11</td>\n      <td>Ethiopia</td>\n      <td>41.720828</td>\n      <td>4.519206</td>\n      <td>Somali region</td>\n    </tr>\n    <tr>\n      <th>11</th>\n      <td>Pamir</td>\n      <td>817</td>\n      <td>[Sudan]</td>\n      <td>[45507]</td>\n      <td>[2022]</td>\n      <td>12</td>\n      <td>South Sudan</td>\n      <td>30.355904</td>\n      <td>9.909969</td>\n      <td>Unity state</td>\n    </tr>\n    <tr>\n      <th>12</th>\n      <td>Ajuong Thok</td>\n      <td>817</td>\n      <td>[Sudan]</td>\n      <td>[46167]</td>\n      <td>[2022]</td>\n      <td>13</td>\n      <td>South Sudan</td>\n      <td>30.279763</td>\n      <td>9.965490</td>\n      <td>Unity state</td>\n    </tr>\n    <tr>\n      <th>13</th>\n      <td>Nyarugusu</td>\n      <td>856</td>\n      <td>[Dem Rep of the Congo, Burundi]</td>\n      <td>[80127, 49638]</td>\n      <td>[2022, 2022]</td>\n      <td>14</td>\n      <td>Tanzania</td>\n      <td>30.389450</td>\n      <td>-4.230329</td>\n      <td>NaN</td>\n    </tr>\n    <tr>\n      <th>14</th>\n      <td>Palorinya</td>\n      <td>11098</td>\n      <td>[South Sudan]</td>\n      <td>[120338]</td>\n      <td>[2022]</td>\n      <td>15</td>\n      <td>Uganda</td>\n      <td>31.627836</td>\n      <td>3.486111</td>\n      <td>Obongi district</td>\n    </tr>\n    <tr>\n      <th>15</th>\n      <td>Nyumanzi</td>\n      <td>319</td>\n      <td>[South Sudan]</td>\n      <td>[220267]</td>\n      <td>[2022]</td>\n      <td>16</td>\n      <td>Uganda</td>\n      <td>31.945198</td>\n      <td>3.467144</td>\n      <td>Adjumani district</td>\n    </tr>\n    <tr>\n      <th>16</th>\n      <td>Nguenyyiel</td>\n      <td>235</td>\n      <td>[South Sudan]</td>\n      <td>[374806]</td>\n      <td>[2022]</td>\n      <td>17</td>\n      <td>Ethiopia</td>\n      <td>34.240537</td>\n      <td>8.295809</td>\n      <td>Gambela region</td>\n    </tr>\n  </tbody>\n</table>\n</div>"
     },
     "execution_count": 7,
     "metadata": {},
     "output_type": "execute_result"
    }
   ],
   "source": [
    "origin_camp_database"
   ],
   "metadata": {
    "collapsed": false,
    "pycharm": {
     "name": "#%%\n"
    }
   }
  }
 ],
 "metadata": {
  "kernelspec": {
   "display_name": "Python 3",
   "language": "python",
   "name": "python3"
  },
  "language_info": {
   "codemirror_mode": {
    "name": "ipython",
    "version": 2
   },
   "file_extension": ".py",
   "mimetype": "text/x-python",
   "name": "python",
   "nbconvert_exporter": "python",
   "pygments_lexer": "ipython2",
   "version": "2.7.6"
  }
 },
 "nbformat": 4,
 "nbformat_minor": 0
}